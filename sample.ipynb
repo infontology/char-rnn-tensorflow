{
 "cells": [
  {
   "cell_type": "code",
   "execution_count": 1,
   "metadata": {},
   "outputs": [
    {
     "name": "stderr",
     "output_type": "stream",
     "text": [
      "/Users/organization/anaconda/envs/traffic_signs/lib/python3.5/importlib/_bootstrap.py:222: RuntimeWarning: compiletime version 3.6 of module 'tensorflow.python.framework.fast_tensor_util' does not match runtime version 3.5\n",
      "  return f(*args, **kwds)\n",
      "/Users/organization/anaconda/envs/traffic_signs/lib/python3.5/site-packages/h5py/__init__.py:34: FutureWarning: Conversion of the second argument of issubdtype from `float` to `np.floating` is deprecated. In future, it will be treated as `np.float64 == np.dtype(float).type`.\n",
      "  from ._conv import register_converters as _register_converters\n"
     ]
    }
   ],
   "source": [
    "from __future__ import print_function\n",
    "import tensorflow as tf\n",
    "\n",
    "import argparse\n",
    "import os\n",
    "from six.moves import cPickle\n",
    "\n",
    "from model import Model\n",
    "\n",
    "from six import text_type"
   ]
  },
  {
   "cell_type": "code",
   "execution_count": 2,
   "metadata": {
    "collapsed": true
   },
   "outputs": [],
   "source": [
    "save_dir = 'save'\n",
    "n = 5000\n",
    "prime = ' '\n",
    "sample = 0 #'0 to use max at each timestep, 1 to sample at each timestep, 2 to sample on spaces'"
   ]
  },
  {
   "cell_type": "code",
   "execution_count": 3,
   "metadata": {},
   "outputs": [],
   "source": [
    "import time\n",
    "current_time = time.strftime('%y%m%d_%H%M%S')\n"
   ]
  },
  {
   "cell_type": "code",
   "execution_count": 4,
   "metadata": {},
   "outputs": [
    {
     "data": {
      "text/plain": [
       "Namespace(batch_size=50, data_dir='./data/sou', decay_rate=0.97, grad_clip=5.0, init_from=None, input_keep_prob=1.0, learning_rate=0.002, log_dir='logs', model='lstm', num_epochs=50, num_layers=2, output_keep_prob=1.0, rnn_size=128, save_dir='save', save_every=1000, seq_length=50, vocab_size=171)"
      ]
     },
     "execution_count": 4,
     "metadata": {},
     "output_type": "execute_result"
    }
   ],
   "source": [
    "with open(os.path.join(save_dir, 'config.pkl'), 'rb') as f:\n",
    "    saved_args = cPickle.load(f)\n",
    "    \n",
    "saved_args"
   ]
  },
  {
   "cell_type": "code",
   "execution_count": 5,
   "metadata": {},
   "outputs": [
    {
     "data": {
      "text/plain": [
       "{'\\n': 17,\n",
       " '\\r': 16,\n",
       " ' ': 0,\n",
       " '!': 104,\n",
       " '\"': 92,\n",
       " '#': 116,\n",
       " '$': 109,\n",
       " '%': 77,\n",
       " '&': 91,\n",
       " \"'\": 86,\n",
       " '(': 49,\n",
       " ')': 47,\n",
       " '*': 93,\n",
       " '+': 88,\n",
       " ',': 32,\n",
       " '-': 29,\n",
       " '.': 14,\n",
       " '/': 63,\n",
       " '0': 31,\n",
       " '1': 28,\n",
       " '2': 30,\n",
       " '3': 36,\n",
       " '4': 37,\n",
       " '5': 34,\n",
       " '6': 39,\n",
       " '7': 40,\n",
       " '8': 42,\n",
       " '9': 38,\n",
       " ':': 45,\n",
       " ';': 82,\n",
       " '=': 90,\n",
       " '>': 100,\n",
       " '?': 80,\n",
       " '@': 103,\n",
       " 'A': 52,\n",
       " 'B': 54,\n",
       " 'C': 68,\n",
       " 'D': 43,\n",
       " 'E': 41,\n",
       " 'F': 48,\n",
       " 'G': 67,\n",
       " 'H': 66,\n",
       " 'I': 46,\n",
       " 'J': 69,\n",
       " 'K': 60,\n",
       " 'L': 57,\n",
       " 'M': 55,\n",
       " 'N': 56,\n",
       " 'O': 50,\n",
       " 'P': 59,\n",
       " 'Q': 84,\n",
       " 'R': 62,\n",
       " 'S': 35,\n",
       " 'T': 58,\n",
       " 'U': 44,\n",
       " 'V': 61,\n",
       " 'W': 79,\n",
       " 'X': 85,\n",
       " 'Y': 83,\n",
       " 'Z': 87,\n",
       " '[': 74,\n",
       " '\\\\': 115,\n",
       " ']': 75,\n",
       " '^': 156,\n",
       " '_': 89,\n",
       " 'a': 4,\n",
       " 'b': 25,\n",
       " 'c': 26,\n",
       " 'd': 9,\n",
       " 'e': 1,\n",
       " 'f': 18,\n",
       " 'g': 11,\n",
       " 'h': 22,\n",
       " 'i': 7,\n",
       " 'j': 33,\n",
       " 'k': 13,\n",
       " 'l': 8,\n",
       " 'm': 12,\n",
       " 'n': 3,\n",
       " 'o': 10,\n",
       " 'p': 21,\n",
       " 'q': 81,\n",
       " 'r': 5,\n",
       " 's': 6,\n",
       " 't': 2,\n",
       " 'u': 23,\n",
       " 'v': 15,\n",
       " 'w': 65,\n",
       " 'x': 53,\n",
       " 'y': 27,\n",
       " 'z': 78,\n",
       " '|': 102,\n",
       " '~': 129,\n",
       " '£': 133,\n",
       " '§': 51,\n",
       " '«': 151,\n",
       " '¬': 147,\n",
       " '\\xad': 72,\n",
       " '°': 94,\n",
       " '±': 123,\n",
       " '²': 113,\n",
       " '´': 108,\n",
       " 'µ': 126,\n",
       " '¸': 160,\n",
       " '»': 142,\n",
       " '¼': 132,\n",
       " '½': 159,\n",
       " 'À': 169,\n",
       " 'Ä': 73,\n",
       " 'Å': 76,\n",
       " 'Æ': 154,\n",
       " 'É': 121,\n",
       " 'Ó': 162,\n",
       " 'Ö': 70,\n",
       " '×': 112,\n",
       " 'Ø': 124,\n",
       " 'Ú': 122,\n",
       " 'Ü': 120,\n",
       " 'Þ': 139,\n",
       " 'ß': 134,\n",
       " 'à': 97,\n",
       " 'á': 111,\n",
       " 'â': 153,\n",
       " 'ã': 168,\n",
       " 'ä': 19,\n",
       " 'å': 24,\n",
       " 'æ': 105,\n",
       " 'ç': 130,\n",
       " 'è': 98,\n",
       " 'é': 71,\n",
       " 'ê': 107,\n",
       " 'ë': 149,\n",
       " 'ì': 166,\n",
       " 'í': 118,\n",
       " 'î': 157,\n",
       " 'ï': 152,\n",
       " 'ð': 145,\n",
       " 'ñ': 155,\n",
       " 'ó': 114,\n",
       " 'ô': 143,\n",
       " 'ö': 20,\n",
       " 'ø': 95,\n",
       " 'ù': 119,\n",
       " 'ú': 135,\n",
       " 'û': 150,\n",
       " 'ü': 99,\n",
       " 'ý': 140,\n",
       " 'þ': 138,\n",
       " 'Č': 161,\n",
       " 'č': 137,\n",
       " 'ě': 127,\n",
       " 'ğ': 158,\n",
       " 'ı': 144,\n",
       " 'ł': 131,\n",
       " 'ő': 164,\n",
       " 'ř': 146,\n",
       " 'ş': 163,\n",
       " 'Š': 167,\n",
       " 'ů': 136,\n",
       " '˚': 110,\n",
       " '̂': 165,\n",
       " '̅': 125,\n",
       " ';': 117,\n",
       " 'ε': 148,\n",
       " 'Е': 141,\n",
       " '\\u2006': 96,\n",
       " '‐': 106,\n",
       " '‑': 128,\n",
       " '‒': 170,\n",
       " '–': 64,\n",
       " '\\ufeff': 101}"
      ]
     },
     "execution_count": 5,
     "metadata": {},
     "output_type": "execute_result"
    }
   ],
   "source": [
    "with open(os.path.join(save_dir, 'chars_vocab.pkl'), 'rb') as f:\n",
    "    chars, vocab = cPickle.load(f)\n",
    "    \n",
    "vocab"
   ]
  },
  {
   "cell_type": "code",
   "execution_count": 6,
   "metadata": {},
   "outputs": [],
   "source": [
    "model = Model(saved_args, training=False)"
   ]
  },
  {
   "cell_type": "code",
   "execution_count": 7,
   "metadata": {},
   "outputs": [
    {
     "data": {
      "text/plain": [
       "<model.Model at 0x11f39deb8>"
      ]
     },
     "execution_count": 7,
     "metadata": {},
     "output_type": "execute_result"
    }
   ],
   "source": [
    "model"
   ]
  },
  {
   "cell_type": "code",
   "execution_count": 12,
   "metadata": {},
   "outputs": [
    {
     "name": "stdout",
     "output_type": "stream",
     "text": [
      "INFO:tensorflow:Restoring parameters from save/model.ckpt-317000\n"
     ]
    },
    {
     "data": {
      "text/plain": [
       "b' till utredningen att den som avses i 1 \\xc2\\xa7 f\\xc3\\xb6rsta stycket \\r\\nanser att det finns en stor del av den som avses i 1 \\xc2\\xa7 f\\xc3\\xb6rsta stycket \\r\\nansvar f\\xc3\\xb6r att st\\xc3\\xa4rka staten ska kunna ska ge en annan medlemsstaterna ska kunna ska ge en annan medlemsstaterna ska kunna ska ge en annan medlemsstaterna ska kunna ska ge en annan medlemsstaterna ska kunna ska ge en annan medlemsstaterna ska kunna ska ge en annan medlemsstaterna ska kunna ska ge en annan medlemsstaterna ska kunna ska ge en annan medlemsstaterna ska kunna ska ge en annan medlemsstaterna ska kunna ska ge en annan medlemsstaterna ska kunna ska ge en annan medlemsstaterna ska kunna ska ge en annan medlemsstaterna ska kunna ska ge en annan medlemsstaterna ska kunna ska ge en annan medlemsstaterna ska kunna ska ge en annan medlemsstaterna ska kunna ska ge en annan medlemsstaterna ska kunna ska ge en annan medlemsstaterna ska kunna ska ge en annan medlemsstaterna ska kunna ska ge en annan medlemsstaterna ska kunna ska ge en annan medlemsstaterna ska kunna ska ge en annan medlemsstaterna ska kunna ska ge en annan medlemsstaterna ska kunna ska ge en annan medlemsstaterna ska kunna ska ge en annan medlemsstaterna ska kunna ska ge en annan medlemsstaterna ska kunna ska ge en annan medlemsstaterna ska kunna ska ge en annan medlemsstaterna ska kunna ska ge en annan medlemsstaterna ska kunna ska ge en annan medlemsstaterna ska kunna ska ge en annan medlemsstaterna ska kunna ska ge en annan medlemsstaterna ska kunna ska ge en annan medlemsstaterna ska kunna ska ge en annan medlemsstaterna ska kunna ska ge en annan medlemsstaterna ska kunna ska ge en annan medlemsstaterna ska kunna ska ge en annan medlemsstaterna ska kunna ska ge en annan medlemsstaterna ska kunna ska ge en annan medlemsstaterna ska kunna ska ge en annan medlemsstaterna ska kunna ska ge en annan medlemsstaterna ska kunna ska ge en annan medlemsstaterna ska kunna ska ge en annan medlemsstaterna ska kunna ska ge en annan medlemsstaterna ska kunna ska ge en annan medlemsstaterna ska kunna ska ge en annan medlemsstaterna ska kunna ska ge en annan medlemsstaterna ska kunna ska ge en annan medlemsstaterna ska kunna ska ge en annan medlemsstaterna ska kunna ska ge en annan medlemsstaterna ska kunna ska ge en annan medlemsstaterna ska kunna ska ge en annan medlemsstaterna ska kunna ska ge en annan medlemsstaterna ska kunna ska ge en annan medlemsstaterna ska kunna ska ge en annan medlemsstaterna ska kunna ska ge en annan medlemsstaterna ska kunna ska ge en annan medlemsstaterna ska kunna ska ge en annan medlemsstaterna ska kunna ska ge en annan medlemsstaterna ska kunna ska ge en annan medlemsstaterna ska kunna ska ge en annan medlemsstaterna ska kunna ska ge en annan medlemsstaterna ska kunna ska ge en annan medlemsstaterna ska kunna ska ge en annan medlemsstaterna ska kunna ska ge en annan medlemsstaterna ska kunna ska ge en annan medlemsstaterna ska kunna ska ge en annan medlemsstaterna ska kunna ska ge en annan medlemsstaterna ska kunna ska ge en annan medlemsstaterna ska kunna ska ge en annan medlemsstaterna ska kunna ska ge en annan medlemsstaterna ska kunna ska ge en annan medlemsstaterna ska kunna ska ge en annan medlemsstaterna ska kunna ska ge en annan medlemsstaterna ska kunna ska ge en annan medlemsstaterna ska kunna ska ge en annan medlemsstaterna ska kunna ska ge en annan medlemsstaterna ska kunna ska ge en annan medlemsstaterna ska kunna ska ge en annan medlemsstaterna ska kunna ska ge en annan medlemsstaterna ska kunna ska ge en annan medlemsstaterna ska kunna ska ge en annan medlemsstaterna ska kunna ska ge en annan medlemsstaterna ska kunna ska ge en annan medlemsstaterna ska kunna ska ge en annan medlemsstaterna ska kunna ska ge en annan medlemsstaterna ska kunna ska ge en annan medlemsstaterna ska kunna ska ge en annan medlemsstaterna ska kunna ska ge en annan medlemsstaterna ska kunna ska ge en annan medlemsstaterna ska kunna ska ge en annan medlemsstaterna ska kunna ska ge en annan medlemsstaterna ska kunna ska ge en annan medlemsstaterna ska kunna ska ge en annan medlemsstaterna ska kunna ska ge en annan medlemsstaterna ska kunna ska ge en annan medlemsstaterna ska kunna ska ge en annan medlemsstaterna ska kunna ska ge en annan medlemsstaterna ska kunna ska ge en annan medlemsstaterna ska kunna ska ge en annan medlemsstaterna ska kunna ska ge en annan medlemsstaterna ska kunna ska ge en annan medlemsstaterna ska kunna ska ge en annan medlemsstaterna ska kunna ska ge en annan medlemsstaterna ska kunna ska ge en annan medlemsstaterna ska kunna ska ge en annan medlemsstaterna ska kunna ska ge en annan medlemsstaterna ska kunna ska ge en annan medlemsstaterna ska kunna ska ge en annan medlemsstaterna ska kunna ska ge en annan medlemsstaterna ska kunna ska ge en annan medlemsstaterna ska kunna ska ge en annan medlemsstaterna ska kunna ska ge en annan medlemsstaterna ska kunna ska ge en annan medlemsstaterna ska kunna ska ge en annan medlemsstaterna ska kunna ska ge en annan medlemsstaterna ska kunna s'"
      ]
     },
     "execution_count": 12,
     "metadata": {},
     "output_type": "execute_result"
    }
   ],
   "source": [
    "with tf.Session() as sess:\n",
    "    ckpt = tf.train.get_checkpoint_state(save_dir)\n",
    "    tf.global_variables_initializer().run()\n",
    "    saver = tf.train.Saver(tf.global_variables())\n",
    "    saver.restore(sess, ckpt.model_checkpoint_path)\n",
    "    sam = model.sample(sess, chars, vocab, n, prime, sample).encode('utf-8')\n",
    "    \n",
    "sam"
   ]
  },
  {
   "cell_type": "code",
   "execution_count": 10,
   "metadata": {},
   "outputs": [],
   "source": [
    "with open(\"sample_\"+current_time+\".txt\", 'w') as f:\n",
    "            f.write(str(sam.decode('utf-8')))"
   ]
  },
  {
   "cell_type": "code",
   "execution_count": 4,
   "metadata": {},
   "outputs": [
    {
     "name": "stdout",
     "output_type": "stream",
     "text": [
      "INFO:tensorflow:Restoring parameters from save/model.ckpt-317000\n",
      "b' till utredningen att den som avses i 1 \\xc2\\xa7 f\\xc3\\xb6rsta stycket \\r\\nanser att det finns en stor del av den som avses i 1 \\xc2\\xa7 f\\xc3\\xb6rsta stycket \\r\\nansvar f\\xc3\\xb6r att st\\xc3\\xa4rka staten ska kunna ska ge en annan medlemsstaterna ska kunna ska ge en annan medlemsstaterna ska kunna ska ge en annan medlemsstaterna ska kunna ska ge en annan medlemsstaterna ska kunna ska ge en annan medlemsstaterna ska kunna ska ge en annan medlemsstaterna ska kunna ska ge en annan medlemsstaterna ska kunna ska ge en annan medlemsstaterna ska kunna ska ge en annan medlemsstaterna ska kunna ska ge en annan medlemsstaterna ska kunna ska ge en annan medlemsstaterna ska kunna ska ge en annan medlemsstaterna ska kunna ska ge en annan medlemsstaterna ska kunna ska ge en annan medlemsstaterna ska kunna ska ge en annan medlemsstaterna ska kunna ska ge en annan medlemsstaterna ska kunna ska ge en annan medlemsstaterna ska kunna ska ge en annan medlemsstaterna ska kunna ska ge en annan medlemsstaterna ska kunna ska ge en annan medlemsstaterna ska kunna ska ge en annan medlemsstaterna ska kunna ska ge en annan medlemsstaterna ska kunna ska ge en annan medlemsstaterna ska kunna ska ge en annan medlemsstaterna ska kunna ska ge en annan medlemsstaterna ska kunna ska ge en annan medlemsstaterna ska kunna ska ge en annan medlemsstaterna ska kunna ska ge en annan medlemsstaterna ska kunna ska ge en annan medlemsstaterna ska kunna ska ge en annan medlemsstaterna ska kunna ska ge en annan medlemsstaterna ska kunna ska ge en annan medlemsstaterna ska kunna ska ge en annan medlemsstaterna ska kunna ska ge en annan medlemsstaterna ska kunna ska ge en annan medlemsstaterna ska kunna ska ge en annan medlemsstaterna ska kunna ska ge en annan medlemsstaterna ska kunna ska ge en annan medlemsstaterna ska kunna ska ge en annan medlemsstaterna ska kunna ska ge en annan medlemsstaterna ska kunna ska ge en annan medlemsstaterna ska kunna ska ge en annan medlemsstaterna ska kunna ska ge en annan medlemsstaterna ska kunna ska ge en annan medlemsstaterna ska kunna ska ge en annan medlemsstaterna ska kunna ska ge en annan medlemsstaterna ska kunna ska ge en annan medlemsstaterna ska kunna ska ge en annan medlemsstaterna ska kunna ska ge en annan medlemsstaterna ska kunna ska ge en annan medlemsstaterna ska kunna ska ge en annan medlemsstaterna ska kunna ska ge en annan medlemsstaterna ska kunna ska ge en annan medlemsstaterna ska kunna ska ge en annan medlemsstaterna ska kunna ska ge en annan medlemsstaterna ska kunna ska ge en annan medlemsstaterna ska kunna ska ge en annan medlemsstaterna ska kunna ska ge en annan medlemsstaterna ska kunna ska ge en annan medlemsstaterna ska kunna ska ge en annan medlemsstaterna ska kunna ska ge en annan medlemsstaterna ska kunna ska ge en annan medlemsstaterna ska kunna ska ge en annan medlemsstaterna ska kunna ska ge en annan medlemsstaterna ska kunna ska ge en annan medlemsstaterna ska kunna ska ge en annan medlemsstaterna ska kunna ska ge en annan medlemsstaterna ska kunna ska ge en annan medlemsstaterna ska kunna ska ge en annan medlemsstaterna ska kunna ska ge en annan medlemsstaterna ska kunna ska ge en annan medlemsstaterna ska kunna ska ge en annan medlemsstaterna ska kunna ska ge en annan medlemsstaterna ska kunna ska ge en annan medlemsstaterna ska kunna ska ge en annan medlemsstaterna ska kunna ska ge en annan medlemsstaterna ska kunna ska ge en annan medlemsstaterna ska kunna ska ge en annan medlemsstaterna ska kunna ska ge en annan medlemsstaterna ska kunna ska ge en annan medlemsstaterna ska kunna ska ge en annan medlemsstaterna ska kunna ska ge en annan medlemsstaterna ska kunna ska ge en annan medlemsstaterna ska kunna ska ge en annan medlemsstaterna ska kunna ska ge en annan medlemsstaterna ska kunna ska ge en annan medlemsstaterna ska kunna ska ge en annan medlemsstaterna ska kunna ska ge en annan medlemsstaterna ska kunna ska ge en annan medlemsstaterna ska kunna ska ge en annan medlemsstaterna ska kunna ska ge en annan medlemsstaterna ska kunna ska ge en annan medlemsstaterna ska kunna ska ge en annan medlemsstaterna ska kunna ska ge en annan medlemsstaterna ska kunna ska ge en annan medlemsstaterna ska kunna ska ge en annan medlemsstaterna ska kunna ska ge en annan medlemsstaterna ska kunna ska ge en annan medlemsstaterna ska kunna ska ge en annan medlemsstaterna ska kunna ska ge en annan medlemsstaterna ska kunna ska ge en annan medlemsstaterna ska kunna ska ge en annan medlemsstaterna ska kunna ska ge en annan medlemsstaterna ska kunna ska ge en annan medlemsstaterna ska kunna ska ge en annan medlemsstaterna ska kunna ska ge en annan medlemsstaterna ska kunna ska ge en annan medlemsstaterna ska kunna ska ge en annan medlemsstaterna ska kunna ska ge en annan medlemsstaterna ska kunna ska ge en annan medlemsstaterna ska kunna ska ge en annan medlemsstaterna ska kunna ska ge en annan medlemsstaterna ska kunna ska ge en annan medlemsstaterna ska kunna ska ge en annan medlemsstaterna ska kunna ska ge en annan medlemsstaterna ska kunna s'\n"
     ]
    }
   ],
   "source": [
    "with tf.Session() as sess:\n",
    "    tf.global_variables_initializer().run()\n",
    "    saver = tf.train.Saver(tf.global_variables())\n",
    "    ckpt = tf.train.get_checkpoint_state(save_dir)\n",
    "    if ckpt and ckpt.model_checkpoint_path:\n",
    "        saver.restore(sess, ckpt.model_checkpoint_path)\n",
    "        sam = model.sample(sess, chars, vocab, n, prime,\n",
    "                           sample).encode('utf-8')\n",
    "        print (sam)\n",
    "        with open(\"sample_\"+current_time+\".txt\", 'w') as f:\n",
    "            f.write(str(sam.decode('utf-8')))"
   ]
  },
  {
   "cell_type": "code",
   "execution_count": null,
   "metadata": {
    "collapsed": true
   },
   "outputs": [],
   "source": []
  }
 ],
 "metadata": {
  "kernelspec": {
   "display_name": "Python 3",
   "language": "python",
   "name": "python3"
  },
  "language_info": {
   "codemirror_mode": {
    "name": "ipython",
    "version": 3
   },
   "file_extension": ".py",
   "mimetype": "text/x-python",
   "name": "python",
   "nbconvert_exporter": "python",
   "pygments_lexer": "ipython3",
   "version": "3.5.4"
  }
 },
 "nbformat": 4,
 "nbformat_minor": 2
}
